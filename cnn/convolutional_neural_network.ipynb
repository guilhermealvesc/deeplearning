{
  "cells": [
    {
      "cell_type": "markdown",
      "metadata": {
        "colab_type": "text",
        "id": "3DR-eO17geWu"
      },
      "source": [
        "# Convolutional Neural Network"
      ]
    },
    {
      "cell_type": "markdown",
      "metadata": {
        "colab_type": "text",
        "id": "EMefrVPCg-60"
      },
      "source": [
        "### Importing the libraries"
      ]
    },
    {
      "cell_type": "code",
      "execution_count": 5,
      "metadata": {},
      "outputs": [],
      "source": [
        "import tensorflow as tf\n",
        "from keras.preprocessing.image import ImageDataGenerator # Image Augmentation\n",
        "# Image Augmentation is a technique used to artificially expand the size of a training dataset by creating modified versions of images in the dataset."
      ]
    },
    {
      "cell_type": "code",
      "execution_count": 6,
      "metadata": {},
      "outputs": [
        {
          "data": {
            "text/plain": [
              "'2.13.0'"
            ]
          },
          "execution_count": 6,
          "metadata": {},
          "output_type": "execute_result"
        }
      ],
      "source": [
        "tf.__version__"
      ]
    },
    {
      "cell_type": "markdown",
      "metadata": {
        "colab_type": "text",
        "id": "oxQxCBWyoGPE"
      },
      "source": [
        "## Part 1 - Data Preprocessing"
      ]
    },
    {
      "cell_type": "markdown",
      "metadata": {
        "colab_type": "text",
        "id": "MvE-heJNo3GG"
      },
      "source": [
        "### Preprocessing the Training set"
      ]
    },
    {
      "cell_type": "code",
      "execution_count": 7,
      "metadata": {},
      "outputs": [
        {
          "name": "stdout",
          "output_type": "stream",
          "text": [
            "Found 8000 images belonging to 2 classes.\n"
          ]
        }
      ],
      "source": [
        "train_datagen = ImageDataGenerator(\n",
        "    rescale=1./255,       # normalize pixel values to [0,1]\n",
        "    shear_range=0.2,      # randomly applies shearing transformation\n",
        "    zoom_range=0.2,       # randomly applies zoom\n",
        "    horizontal_flip=True  # randomly flip the images horizontally\n",
        ")\n",
        "\n",
        "training_set = train_datagen.flow_from_directory(\n",
        "    'dataset/training_set',       # relative path from working directory to training set\n",
        "    target_size=(64, 64),         # all images will be resized to 64x64\n",
        "    batch_size=32,                # number of images to be yielded from generator per batch\n",
        "    class_mode='binary'           # type of label arrays that are returned (binary because there are only two classes, cat or dog)\n",
        ")"
      ]
    },
    {
      "cell_type": "markdown",
      "metadata": {
        "colab_type": "text",
        "id": "mrCMmGw9pHys"
      },
      "source": [
        "### Preprocessing the Test set"
      ]
    },
    {
      "cell_type": "code",
      "execution_count": 8,
      "metadata": {},
      "outputs": [
        {
          "name": "stdout",
          "output_type": "stream",
          "text": [
            "Found 2000 images belonging to 2 classes.\n"
          ]
        }
      ],
      "source": [
        "test_datagen = ImageDataGenerator(rescale=1./255) # rescale pixel values between 0 and 1 (loading the test images only needs to normalize the pixel values)\n",
        "test_set = test_datagen.flow_from_directory(\n",
        "    'dataset/test_set', \n",
        "    target_size=(64, 64), \n",
        "    batch_size=32, \n",
        "    class_mode='binary'\n",
        ")"
      ]
    },
    {
      "cell_type": "markdown",
      "metadata": {
        "colab_type": "text",
        "id": "af8O4l90gk7B"
      },
      "source": [
        "## Part 2 - Building the CNN"
      ]
    },
    {
      "cell_type": "markdown",
      "metadata": {
        "colab_type": "text",
        "id": "ces1gXY2lmoX"
      },
      "source": [
        "### Initialising the CNN"
      ]
    },
    {
      "cell_type": "code",
      "execution_count": 18,
      "metadata": {},
      "outputs": [],
      "source": [
        "cnn = tf.keras.models.Sequential()"
      ]
    },
    {
      "cell_type": "markdown",
      "metadata": {
        "colab_type": "text",
        "id": "u5YJj_XMl5LF"
      },
      "source": [
        "### Step 1 - Convolution"
      ]
    },
    {
      "cell_type": "code",
      "execution_count": 19,
      "metadata": {},
      "outputs": [],
      "source": [
        "cnn.add(tf.keras.layers.Conv2D(\n",
        "  filters=32,             # number of kernels (square matrix with variable values)\n",
        "  kernel_size=3,          # size of the kernel (3x3 matrix)\n",
        "  activation='relu',      # activation function (max(0, x))\n",
        "  input_shape=(64, 64, 3) # input shape (64x64 RGB image)\n",
        "))"
      ]
    },
    {
      "cell_type": "markdown",
      "metadata": {
        "colab_type": "text",
        "id": "tf87FpvxmNOJ"
      },
      "source": [
        "### Step 2 - Pooling"
      ]
    },
    {
      "cell_type": "code",
      "execution_count": 20,
      "metadata": {},
      "outputs": [],
      "source": [
        "cnn.add(tf.keras.layers.MaxPool2D(\n",
        "    pool_size=2,      # uses a pooling window of 2x2\n",
        "    strides=2         # strides of 2 (shifts the pooling window by 2 pixel units)\n",
        "))"
      ]
    },
    {
      "cell_type": "markdown",
      "metadata": {
        "colab_type": "text",
        "id": "xaTOgD8rm4mU"
      },
      "source": [
        "### Adding a second convolutional layer"
      ]
    },
    {
      "cell_type": "code",
      "execution_count": 21,
      "metadata": {},
      "outputs": [],
      "source": [
        "cnn.add(tf.keras.layers.Conv2D(\n",
        "  filters=32,             # number of kernels (square matrix with variable values)\n",
        "  kernel_size=3,          # size of the kernel (3x3 matrix)\n",
        "  activation='relu',      # activation function (max(0, x))\n",
        "))\n",
        "\n",
        "cnn.add(tf.keras.layers.MaxPool2D(\n",
        "    pool_size=2,      # uses a pooling window of 2x2\n",
        "    strides=2         # strides of 2 (shifts the pooling window by 2 pixel units)\n",
        "))"
      ]
    },
    {
      "cell_type": "markdown",
      "metadata": {
        "colab_type": "text",
        "id": "tmiEuvTunKfk"
      },
      "source": [
        "### Step 3 - Flattening"
      ]
    },
    {
      "cell_type": "code",
      "execution_count": 22,
      "metadata": {},
      "outputs": [],
      "source": [
        "cnn.add(tf.keras.layers.Flatten()) \n",
        "# transforms 2D matrix into a vector so that we can feed it into a fully connected layer"
      ]
    },
    {
      "cell_type": "markdown",
      "metadata": {
        "colab_type": "text",
        "id": "dAoSECOm203v"
      },
      "source": [
        "### Step 4 - Full Connection"
      ]
    },
    {
      "cell_type": "code",
      "execution_count": 23,
      "metadata": {},
      "outputs": [],
      "source": [
        "cnn.add(tf.keras.layers.Dense(128, activation='relu'))"
      ]
    },
    {
      "cell_type": "markdown",
      "metadata": {
        "colab_type": "text",
        "id": "yTldFvbX28Na"
      },
      "source": [
        "### Step 5 - Output Layer"
      ]
    },
    {
      "cell_type": "code",
      "execution_count": 24,
      "metadata": {},
      "outputs": [],
      "source": [
        "cnn.add(tf.keras.layers.Dense(1, activation='sigmoid'))"
      ]
    },
    {
      "cell_type": "markdown",
      "metadata": {
        "colab_type": "text",
        "id": "D6XkI90snSDl"
      },
      "source": [
        "## Part 3 - Training the CNN"
      ]
    },
    {
      "cell_type": "markdown",
      "metadata": {
        "colab_type": "text",
        "id": "vfrFQACEnc6i"
      },
      "source": [
        "### Compiling the CNN"
      ]
    },
    {
      "cell_type": "code",
      "execution_count": 25,
      "metadata": {},
      "outputs": [],
      "source": [
        "cnn.compile(\n",
        "    optimizer='adam',\n",
        "    loss='binary_crossentropy',\n",
        "    metrics=['accuracy']\n",
        ")"
      ]
    },
    {
      "cell_type": "markdown",
      "metadata": {
        "colab_type": "text",
        "id": "ehS-v3MIpX2h"
      },
      "source": [
        "### Training the CNN on the Training set and evaluating it on the Test set"
      ]
    },
    {
      "cell_type": "code",
      "execution_count": 26,
      "metadata": {},
      "outputs": [
        {
          "name": "stdout",
          "output_type": "stream",
          "text": [
            "Epoch 1/25\n",
            "  1/250 [..............................] - ETA: 6:06 - loss: 0.6820 - accuracy: 0.5312"
          ]
        },
        {
          "name": "stderr",
          "output_type": "stream",
          "text": [
            "2023-08-02 11:06:44.655643: W tensorflow/tsl/framework/cpu_allocator_impl.cc:83] Allocation of 28096128 exceeds 10% of free system memory.\n",
            "2023-08-02 11:06:44.843125: W tensorflow/tsl/framework/cpu_allocator_impl.cc:83] Allocation of 28096128 exceeds 10% of free system memory.\n"
          ]
        },
        {
          "name": "stdout",
          "output_type": "stream",
          "text": [
            "  3/250 [..............................] - ETA: 46s - loss: 0.7023 - accuracy: 0.5521"
          ]
        },
        {
          "name": "stderr",
          "output_type": "stream",
          "text": [
            "2023-08-02 11:06:45.041430: W tensorflow/tsl/framework/cpu_allocator_impl.cc:83] Allocation of 28096128 exceeds 10% of free system memory.\n",
            "2023-08-02 11:06:45.211649: W tensorflow/tsl/framework/cpu_allocator_impl.cc:83] Allocation of 28096128 exceeds 10% of free system memory.\n"
          ]
        },
        {
          "name": "stdout",
          "output_type": "stream",
          "text": [
            "  5/250 [..............................] - ETA: 40s - loss: 0.6986 - accuracy: 0.5437"
          ]
        },
        {
          "name": "stderr",
          "output_type": "stream",
          "text": [
            "2023-08-02 11:06:45.350847: W tensorflow/tsl/framework/cpu_allocator_impl.cc:83] Allocation of 28096128 exceeds 10% of free system memory.\n"
          ]
        },
        {
          "name": "stdout",
          "output_type": "stream",
          "text": [
            "250/250 [==============================] - 38s 149ms/step - loss: 0.6432 - accuracy: 0.6225 - val_loss: 0.5776 - val_accuracy: 0.6985\n",
            "Epoch 2/25\n",
            "250/250 [==============================] - 46s 183ms/step - loss: 0.5724 - accuracy: 0.7024 - val_loss: 0.5321 - val_accuracy: 0.7340\n",
            "Epoch 3/25\n",
            "250/250 [==============================] - 73s 291ms/step - loss: 0.5396 - accuracy: 0.7271 - val_loss: 0.5213 - val_accuracy: 0.7350\n",
            "Epoch 4/25\n",
            "250/250 [==============================] - 70s 281ms/step - loss: 0.5010 - accuracy: 0.7556 - val_loss: 0.4894 - val_accuracy: 0.7695\n",
            "Epoch 5/25\n",
            "250/250 [==============================] - 60s 241ms/step - loss: 0.4814 - accuracy: 0.7636 - val_loss: 0.4680 - val_accuracy: 0.7810\n",
            "Epoch 6/25\n",
            "250/250 [==============================] - 58s 231ms/step - loss: 0.4529 - accuracy: 0.7840 - val_loss: 0.4718 - val_accuracy: 0.7820\n",
            "Epoch 7/25\n",
            "250/250 [==============================] - 54s 215ms/step - loss: 0.4434 - accuracy: 0.7945 - val_loss: 0.4936 - val_accuracy: 0.7610\n",
            "Epoch 8/25\n",
            "250/250 [==============================] - 46s 182ms/step - loss: 0.4308 - accuracy: 0.7961 - val_loss: 0.4739 - val_accuracy: 0.7705\n",
            "Epoch 9/25\n",
            "250/250 [==============================] - 43s 173ms/step - loss: 0.4166 - accuracy: 0.8052 - val_loss: 0.4994 - val_accuracy: 0.7585\n",
            "Epoch 10/25\n",
            "250/250 [==============================] - 45s 179ms/step - loss: 0.3992 - accuracy: 0.8170 - val_loss: 0.4429 - val_accuracy: 0.8000\n",
            "Epoch 11/25\n",
            "250/250 [==============================] - 41s 165ms/step - loss: 0.3946 - accuracy: 0.8225 - val_loss: 0.4405 - val_accuracy: 0.8045\n",
            "Epoch 12/25\n",
            "250/250 [==============================] - 48s 193ms/step - loss: 0.3672 - accuracy: 0.8329 - val_loss: 0.4455 - val_accuracy: 0.7990\n",
            "Epoch 13/25\n",
            "250/250 [==============================] - 47s 187ms/step - loss: 0.3656 - accuracy: 0.8356 - val_loss: 0.4739 - val_accuracy: 0.7905\n",
            "Epoch 14/25\n",
            "250/250 [==============================] - 53s 213ms/step - loss: 0.3534 - accuracy: 0.8405 - val_loss: 0.5156 - val_accuracy: 0.7875\n",
            "Epoch 15/25\n",
            "250/250 [==============================] - 41s 162ms/step - loss: 0.3369 - accuracy: 0.8534 - val_loss: 0.4667 - val_accuracy: 0.7975\n",
            "Epoch 16/25\n",
            "250/250 [==============================] - 31s 124ms/step - loss: 0.3224 - accuracy: 0.8534 - val_loss: 0.4801 - val_accuracy: 0.8145\n",
            "Epoch 17/25\n",
            "250/250 [==============================] - 32s 127ms/step - loss: 0.3073 - accuracy: 0.8677 - val_loss: 0.4510 - val_accuracy: 0.8135\n",
            "Epoch 18/25\n",
            "250/250 [==============================] - 31s 125ms/step - loss: 0.2954 - accuracy: 0.8704 - val_loss: 0.4563 - val_accuracy: 0.8030\n",
            "Epoch 19/25\n",
            "250/250 [==============================] - 32s 127ms/step - loss: 0.2914 - accuracy: 0.8724 - val_loss: 0.4801 - val_accuracy: 0.8055\n",
            "Epoch 20/25\n",
            "250/250 [==============================] - 31s 124ms/step - loss: 0.2729 - accuracy: 0.8820 - val_loss: 0.4833 - val_accuracy: 0.8005\n",
            "Epoch 21/25\n",
            "250/250 [==============================] - 32s 126ms/step - loss: 0.2640 - accuracy: 0.8882 - val_loss: 0.5118 - val_accuracy: 0.7925\n",
            "Epoch 22/25\n",
            "250/250 [==============================] - 37s 147ms/step - loss: 0.2434 - accuracy: 0.8976 - val_loss: 0.4874 - val_accuracy: 0.8085\n",
            "Epoch 23/25\n",
            "250/250 [==============================] - 55s 221ms/step - loss: 0.2346 - accuracy: 0.9028 - val_loss: 0.5210 - val_accuracy: 0.8180\n",
            "Epoch 24/25\n",
            "250/250 [==============================] - 51s 205ms/step - loss: 0.2177 - accuracy: 0.9133 - val_loss: 0.5206 - val_accuracy: 0.8020\n",
            "Epoch 25/25\n",
            "250/250 [==============================] - 43s 171ms/step - loss: 0.2164 - accuracy: 0.9114 - val_loss: 0.5078 - val_accuracy: 0.8100\n"
          ]
        },
        {
          "data": {
            "text/plain": [
              "<keras.src.callbacks.History at 0x7f6b804b9030>"
            ]
          },
          "execution_count": 26,
          "metadata": {},
          "output_type": "execute_result"
        }
      ],
      "source": [
        "cnn.fit(\n",
        "  x = training_set, \n",
        "  validation_data=test_set,\n",
        "  epochs=25,\n",
        ")"
      ]
    },
    {
      "cell_type": "markdown",
      "metadata": {},
      "source": [
        "### (Optional) Saving the model"
      ]
    },
    {
      "cell_type": "code",
      "execution_count": 27,
      "metadata": {},
      "outputs": [],
      "source": [
        "cnn.save('trained/dogcat.keras')"
      ]
    },
    {
      "cell_type": "markdown",
      "metadata": {
        "colab_type": "text",
        "id": "U3PZasO0006Z"
      },
      "source": [
        "## Part 4 - Making a single prediction"
      ]
    },
    {
      "cell_type": "markdown",
      "metadata": {},
      "source": [
        "### (Optional) Load a trained model"
      ]
    },
    {
      "cell_type": "code",
      "execution_count": 38,
      "metadata": {},
      "outputs": [],
      "source": [
        "cnn = tf.keras.models.load_model('trained/dogcat.keras')"
      ]
    },
    {
      "cell_type": "markdown",
      "metadata": {},
      "source": [
        "### Making a prediction"
      ]
    },
    {
      "cell_type": "code",
      "execution_count": 41,
      "metadata": {},
      "outputs": [
        {
          "name": "stdout",
          "output_type": "stream",
          "text": [
            "1/1 [==============================] - 0s 29ms/step\n",
            "cat\n"
          ]
        }
      ],
      "source": [
        "import numpy as np\n",
        "from keras.preprocessing import image\n",
        "from PIL import Image\n",
        "\n",
        "image_src = \"dataset/single_prediction/cat_or_dog_2.jpg\"\n",
        "\n",
        "test_image = image.load_img(\n",
        "    image_src,\n",
        "    target_size=(64, 64)\n",
        ")\n",
        "test_image = image.img_to_array(test_image)\n",
        "test_image = np.expand_dims(test_image, axis=0) # add a dimension to the first position, need to predicted in batch form\n",
        "result = cnn.predict(test_image)\n",
        "prediction = 'dog' if result[0][0] == 1 else 'cat'\n",
        "\n",
        "Image.open(image_src).show(title=prediction)\n",
        "print(prediction)"
      ]
    }
  ],
  "metadata": {
    "colab": {
      "collapsed_sections": [],
      "name": "convolutional_neural_network.ipynb",
      "provenance": [],
      "toc_visible": true
    },
    "kernelspec": {
      "display_name": "Python 3",
      "name": "python3"
    },
    "language_info": {
      "codemirror_mode": {
        "name": "ipython",
        "version": 3
      },
      "file_extension": ".py",
      "mimetype": "text/x-python",
      "name": "python",
      "nbconvert_exporter": "python",
      "pygments_lexer": "ipython3",
      "version": "3.10.12"
    }
  },
  "nbformat": 4,
  "nbformat_minor": 0
}
